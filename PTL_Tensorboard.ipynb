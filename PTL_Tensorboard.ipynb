{
 "cells": [
  {
   "cell_type": "markdown",
   "metadata": {},
   "source": [
    "# TensorBoard with PyTorch Lightning"
   ]
  },
  {
   "cell_type": "markdown",
   "metadata": {},
   "source": [
    "## Setup"
   ]
  },
  {
   "cell_type": "code",
   "execution_count": null,
   "metadata": {},
   "outputs": [],
   "source": [
    "import boto3\n",
    "import sagemaker\n",
    "\n",
    "role = 'sagemaker-role'\n",
    "role_arn = 'arn:aws:iam::************:role/sagemaker-role'\n",
    "sagemaker_session = sagemaker.Session()\n",
    "s3_bucket_name = sagemaker_session.default_bucket()"
   ]
  },
  {
   "cell_type": "code",
   "execution_count": null,
   "metadata": {},
   "outputs": [],
   "source": [
    "# prefix for our training\n",
    "from datetime import datetime\n",
    "now = datetime.now()\n",
    "d = now.strftime(\"%d-%m-%Y-%H-%M-%S\")\n",
    "job_name = f'sagemaker-{d}'\n",
    "job_name"
   ]
  },
  {
   "cell_type": "code",
   "execution_count": null,
   "metadata": {},
   "outputs": [],
   "source": [
    "# for spot instances\n",
    "# use_spot_instances = False\n",
    "# max_run=600  if use_spot_instances else None\n",
    "# max_wait = 1200 if use_spot_instances else None"
   ]
  },
  {
   "cell_type": "markdown",
   "metadata": {},
   "source": [
    "## Training Loop"
   ]
  },
  {
   "cell_type": "code",
   "execution_count": null,
   "metadata": {},
   "outputs": [],
   "source": [
    "# instance details\n",
    "instance_type = \"ml.g4dn.2xlarge\"\n",
    "instance_count = 1"
   ]
  },
  {
   "cell_type": "code",
   "execution_count": null,
   "metadata": {},
   "outputs": [],
   "source": [
    "hyperparameters={\n",
    "            \"batch-size\":64,\n",
    "            \"max-epochs\":1,\n",
    "            }"
   ]
  },
  {
   "cell_type": "code",
   "execution_count": null,
   "metadata": {},
   "outputs": [],
   "source": [
    "from sagemaker.pytorch import PyTorch\n",
    "\n",
    "\n",
    "estimator = PyTorch(\n",
    "        entry_point=\"a_train.py\", \n",
    "        source_dir='a_code',\n",
    "        role=role,\n",
    "        instance_type=instance_type,\n",
    "        sagemaker_session=sagemaker_session,\n",
    "        framework_version='1.12.0',\n",
    "        py_version='py38',\n",
    "        instance_count=instance_count,\n",
    "        hyperparameters=hyperparameters,\n",
    "        disable_profiler=True, # for distributed training\n",
    "        debugger_hook_config=False, # for distributed training\n",
    "        job_name=job_name,\n",
    "        )"
   ]
  },
  {
   "cell_type": "code",
   "execution_count": null,
   "metadata": {},
   "outputs": [],
   "source": [
    "estimator.fit(job_name=job_name, logs=True)"
   ]
  }
 ],
 "metadata": {
  "kernelspec": {
   "display_name": "Python 3.8.12 ('sage')",
   "language": "python",
   "name": "python3"
  },
  "language_info": {
   "codemirror_mode": {
    "name": "ipython",
    "version": 3
   },
   "file_extension": ".py",
   "mimetype": "text/x-python",
   "name": "python",
   "nbconvert_exporter": "python",
   "pygments_lexer": "ipython3",
   "version": "3.8.12"
  },
  "orig_nbformat": 4,
  "vscode": {
   "interpreter": {
    "hash": "56c8b11829b62d4480edeffa99568baa66a55d66fcd3834ab08236f574c2c3e6"
   }
  }
 },
 "nbformat": 4,
 "nbformat_minor": 2
}
